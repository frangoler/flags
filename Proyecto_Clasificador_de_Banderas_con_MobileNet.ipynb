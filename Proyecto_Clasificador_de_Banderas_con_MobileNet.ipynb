{
  "cells": [
    {
      "cell_type": "markdown",
      "metadata": {
        "id": "view-in-github",
        "colab_type": "text"
      },
      "source": [
        "<a href=\"https://colab.research.google.com/github/frangoler/flags-clasificator/blob/main/Proyecto_Clasificador_de_Banderas_con_MobileNet.ipynb\" target=\"_parent\"><img src=\"https://colab.research.google.com/assets/colab-badge.svg\" alt=\"Open In Colab\"/></a>"
      ]
    },
    {
      "cell_type": "code",
      "execution_count": 2,
      "metadata": {
        "id": "xe3GLdYh10zw"
      },
      "outputs": [],
      "source": [
        "import matplotlib.pyplot as plt\n",
        "import matplotlib.image as mpimg\n",
        "import numpy as np\n",
        "import tensorflow as tf\n",
        "import tensorflow_hub as hub\n",
        "from tensorflow.keras.preprocessing.image import ImageDataGenerator\n",
        "from PIL import Image\n",
        "import requests\n",
        "from io import BytesIO\n",
        "import cv2"
      ]
    },
    {
      "cell_type": "code",
      "execution_count": 3,
      "metadata": {
        "id": "ChXrVSr8UZWn"
      },
      "outputs": [],
      "source": [
        "#Datos de ajuste importantes\n",
        "epochs = 100\n",
        "image_size=224\n",
        "batch_size=32"
      ]
    },
    {
      "cell_type": "code",
      "source": [
        "#DEJO EL LINK DEL REPOSITORIO DE GITHUB \n",
        "#https://github.com/frangoler/flags-clasificator"
      ],
      "metadata": {
        "id": "c3X3iu0TJGVR"
      },
      "execution_count": null,
      "outputs": []
    },
    {
      "cell_type": "code",
      "source": [
        "#IMPORTANTE\n",
        "#Probar esto que descargue dos zip y crea una carpeta en archivos \n",
        "!wget https://github.com/frangoler/flags-clasificator/raw/main/flags-1.zip\n",
        "!wget https://github.com/frangoler/flags-clasificator/raw/main/flags-2.zip\n",
        "!mkdir flags"
      ],
      "metadata": {
        "colab": {
          "base_uri": "https://localhost:8080/"
        },
        "id": "UFvdS9ZlZ5K3",
        "outputId": "50dc0317-a9f9-44e8-c728-b5ae8ac316cb"
      },
      "execution_count": 4,
      "outputs": [
        {
          "output_type": "stream",
          "name": "stdout",
          "text": [
            "--2022-08-23 13:26:35--  https://github.com/frangoler/flags-clasificator/raw/main/flags-1.zip\n",
            "Resolving github.com (github.com)... 20.205.243.166\n",
            "Connecting to github.com (github.com)|20.205.243.166|:443... connected.\n",
            "HTTP request sent, awaiting response... 302 Found\n",
            "Location: https://raw.githubusercontent.com/frangoler/flags-clasificator/main/flags-1.zip [following]\n",
            "--2022-08-23 13:26:35--  https://raw.githubusercontent.com/frangoler/flags-clasificator/main/flags-1.zip\n",
            "Resolving raw.githubusercontent.com (raw.githubusercontent.com)... 185.199.108.133, 185.199.109.133, 185.199.110.133, ...\n",
            "Connecting to raw.githubusercontent.com (raw.githubusercontent.com)|185.199.108.133|:443... connected.\n",
            "HTTP request sent, awaiting response... 200 OK\n",
            "Length: 24320480 (23M) [application/zip]\n",
            "Saving to: ‘flags-1.zip’\n",
            "\n",
            "\rflags-1.zip           0%[                    ]       0  --.-KB/s               \rflags-1.zip         100%[===================>]  23.19M  --.-KB/s    in 0.06s   \n",
            "\n",
            "2022-08-23 13:26:35 (362 MB/s) - ‘flags-1.zip’ saved [24320480/24320480]\n",
            "\n",
            "--2022-08-23 13:26:35--  https://github.com/frangoler/flags-clasificator/raw/main/flags-2.zip\n",
            "Resolving github.com (github.com)... 20.205.243.166\n",
            "Connecting to github.com (github.com)|20.205.243.166|:443... connected.\n",
            "HTTP request sent, awaiting response... 302 Found\n",
            "Location: https://raw.githubusercontent.com/frangoler/flags-clasificator/main/flags-2.zip [following]\n",
            "--2022-08-23 13:26:35--  https://raw.githubusercontent.com/frangoler/flags-clasificator/main/flags-2.zip\n",
            "Resolving raw.githubusercontent.com (raw.githubusercontent.com)... 185.199.111.133, 185.199.108.133, 185.199.110.133, ...\n",
            "Connecting to raw.githubusercontent.com (raw.githubusercontent.com)|185.199.111.133|:443... connected.\n",
            "HTTP request sent, awaiting response... 200 OK\n",
            "Length: 21422488 (20M) [application/zip]\n",
            "Saving to: ‘flags-2.zip’\n",
            "\n",
            "flags-2.zip         100%[===================>]  20.43M  --.-KB/s    in 0.06s   \n",
            "\n",
            "2022-08-23 13:26:37 (356 MB/s) - ‘flags-2.zip’ saved [21422488/21422488]\n",
            "\n"
          ]
        }
      ]
    },
    {
      "cell_type": "code",
      "source": [
        "#Descomprime los zip en la carpeta\n",
        "%cd flags\n",
        "!unzip /content/flags-1.zip\n",
        "!unzip /content/flags-2.zip\n",
        "%cd .."
      ],
      "metadata": {
        "id": "FPFpeiIkamsu"
      },
      "execution_count": null,
      "outputs": []
    },
    {
      "cell_type": "code",
      "execution_count": 6,
      "metadata": {
        "colab": {
          "base_uri": "https://localhost:8080/"
        },
        "id": "E84Oq_2OpuBU",
        "outputId": "0ef83621-a376-435e-edc2-62f2f3fc8307"
      },
      "outputs": [
        {
          "output_type": "stream",
          "name": "stdout",
          "text": [
            "Found 656 images belonging to 50 classes.\n",
            "Found 133 images belonging to 50 classes.\n"
          ]
        }
      ],
      "source": [
        "#Aumento de datos con ImageDataGenerator\n",
        "#Crear el dataset generador\n",
        "directorio='/content/flags'\n",
        "datagen = ImageDataGenerator(\n",
        "    rescale=1. / 255,#Factor de reescala ,se aplica luego de palicar todas las transformaciones\n",
        "    rotation_range = 30,#Rango de grados para rotaciones aleatorias\n",
        "    width_shift_range = 0.25,#Toma una fraccion del ancho total de la imagen\n",
        "    height_shift_range = 0.25,#Toma una fraccion de la altura total de la imagen\n",
        "    shear_range = 15,#Angulo de corte en sentido contrario a las agujas del reloj\n",
        "    zoom_range = [0.5, 1.5],#Rango para zoom aleatorio\n",
        "    validation_split=0.2 #20% para pruebas\n",
        ")\n",
        "#Generadores para sets de entrenamiento y pruebas\n",
        "data_gen_entrenamiento = datagen.flow_from_directory(directorio,\n",
        "                                                     target_size=(image_size,image_size),\n",
        "                                                     batch_size=batch_size, \n",
        "                                                     shuffle=True, \n",
        "                                                     subset='training')\n",
        "data_gen_pruebas = datagen.flow_from_directory(directorio, \n",
        "                                               target_size=(image_size,image_size),\n",
        "                                               batch_size=batch_size, \n",
        "                                               shuffle=True, \n",
        "                                               subset='validation')"
      ]
    },
    {
      "cell_type": "code",
      "execution_count": 18,
      "metadata": {
        "id": "i35KQ_W7arNn",
        "colab": {
          "base_uri": "https://localhost:8080/"
        },
        "outputId": "30949adb-74c3-4319-821c-21e4ed135a6f"
      },
      "outputs": [
        {
          "output_type": "stream",
          "name": "stdout",
          "text": [
            "['Andorra', 'Argentina', 'Austria', 'Barbados', 'Belgium', 'Bolivia', 'Brasil', 'Bulgaria', 'Canada', 'Chile', 'Colombia', 'Costa rica', 'Croatia', 'Cuba', 'Czech Republic', 'Denmark', 'El Salvador', 'Estonia', 'Finland', 'France', 'Germany', 'Greece', 'Guatemala', 'Holland', 'Hungary', 'Iceland', 'Ireland', 'Italy', 'Latvia', 'Lithuania', 'Luxembourg', 'Malta', 'Mexico', 'Norway', 'Paraguay', 'Peru', 'Poland', 'Portugal', 'Romania', 'Russia', 'Slovakia', 'Slovenia', 'Spain', 'Sweden', 'Switzerland', 'Ukraine', 'United Kingdom', 'United States', 'Uruguay', 'Venezuela']\n"
          ]
        }
      ],
      "source": [
        "#Extraigo el diccionario generado en el dataset, lo paso a una lista y genero el numero de clases necesaria como cantidad de salidas de la red\n",
        "dLabels = data_gen_entrenamiento.class_indices\n",
        "labels=[]\n",
        "for clave in dLabels:\n",
        "  labels.append(clave)\n",
        "num_clases=len(labels)"
      ]
    },
    {
      "cell_type": "code",
      "execution_count": 8,
      "metadata": {
        "id": "r1XMwOnxqhTA"
      },
      "outputs": [],
      "source": [
        "#Descargo el modelo mobilenet de Google\n",
        "url = \"https://tfhub.dev/google/tf2-preview/mobilenet_v2/feature_vector/4\"\n",
        "mobilenetv2 = hub.KerasLayer(url, input_shape=(image_size,image_size,3))\n",
        "#Congelo el modelo descargado\n",
        "#Congelo todas las capas y solo le modifico la ultima\n",
        "mobilenetv2.trainable = False"
      ]
    },
    {
      "cell_type": "code",
      "execution_count": 9,
      "metadata": {
        "id": "LbXDiD8Tqkoj"
      },
      "outputs": [],
      "source": [
        "#Modifico la ultima capa de salida con la cantidad de clases que tengo\n",
        "model= tf.keras.Sequential([\n",
        "    mobilenetv2,\n",
        "    tf.keras.layers.Dense(num_clases, activation='softmax')\n",
        "])"
      ]
    },
    {
      "cell_type": "code",
      "execution_count": 10,
      "metadata": {
        "id": "apLdPVOSqxRg"
      },
      "outputs": [],
      "source": [
        "#Compilo\n",
        "model.compile(\n",
        "    optimizer='adam',\n",
        "    loss='categorical_crossentropy',\n",
        "    metrics=['accuracy']\n",
        ")\n"
      ]
    },
    {
      "cell_type": "code",
      "execution_count": null,
      "metadata": {
        "id": "3mN8l9Gbqx4J"
      },
      "outputs": [],
      "source": [
        "#Entreno el modelo\n",
        "#IMPORTANTE:Cada vez que se corrar el entrenamiento recargar pagin, sino queda guardado un \"entrenamiento\" y lo hace mal.\n",
        "#Correr con entorno de ejecucion con aceleracion de harware en GPU(Mas rapido)\n",
        "historial = model.fit(\n",
        "    data_gen_entrenamiento, \n",
        "    epochs=epochs, \n",
        "    batch_size=batch_size,\n",
        "    validation_data=data_gen_pruebas\n",
        ")"
      ]
    },
    {
      "cell_type": "code",
      "execution_count": 12,
      "metadata": {
        "colab": {
          "base_uri": "https://localhost:8080/",
          "height": 499
        },
        "id": "CO0XJMRm1vOg",
        "outputId": "0a40b78f-726c-496e-c9ae-873ae9f8fbcc"
      },
      "outputs": [
        {
          "output_type": "display_data",
          "data": {
            "text/plain": [
              "<Figure size 576x576 with 2 Axes>"
            ],
            "image/png": "[encoded data removed]"
          },
          "metadata": {
            "needs_background": "light"
          }
        }
      ],
      "source": [
        "#Graficas de precisión\n",
        "acc = historial.history['accuracy']\n",
        "val_acc = historial.history['val_accuracy']\n",
        "\n",
        "loss = historial.history['loss']\n",
        "val_loss = historial.history['val_loss']\n",
        "\n",
        "rango_epocas = range(epochs)\n",
        "\n",
        "plt.figure(figsize=(8,8))\n",
        "plt.subplot(1,2,1)\n",
        "plt.plot(rango_epocas, acc, label='Precisión Entrenamiento')\n",
        "plt.plot(rango_epocas, val_acc, label='Precisión Pruebas')\n",
        "plt.legend(loc='lower right')\n",
        "plt.title('Precisión de entrenamiento y pruebas')\n",
        "\n",
        "plt.subplot(1,2,2)\n",
        "plt.plot(rango_epocas, loss, label='Pérdida de entrenamiento')\n",
        "plt.plot(rango_epocas, val_loss, label='Pérdida de pruebas')\n",
        "plt.legend(loc='upper right')\n",
        "plt.title('Pérdida de entrenamiento y pruebas')\n",
        "plt.show()"
      ]
    },
    {
      "cell_type": "code",
      "execution_count": 17,
      "metadata": {
        "id": "e-vLqo7AUJT2"
      },
      "outputs": [],
      "source": [
        "#Guardo el modelo para poder utilizarlo enotros codigos\n",
        "model.save('banderitas.h5')"
      ]
    },
    {
      "cell_type": "code",
      "source": [
        "#IMPORTANTE\n",
        "#Descarga el modelo desde el Github deberia aparecer en archivs tambien\n",
        "!wget https://github.com/frangoler/flags-clasificator/raw/main/banderitas.h5"
      ],
      "metadata": {
        "colab": {
          "base_uri": "https://localhost:8080/"
        },
        "id": "VJfv73SuBltQ",
        "outputId": "50d3915e-5622-4110-a339-90b138196458"
      },
      "execution_count": 20,
      "outputs": [
        {
          "output_type": "stream",
          "name": "stdout",
          "text": [
            "--2022-08-23 14:09:58--  https://github.com/frangoler/flags-clasificator/raw/main/banderitas.h5\n",
            "Resolving github.com (github.com)... 20.205.243.166\n",
            "Connecting to github.com (github.com)|20.205.243.166|:443... connected.\n",
            "HTTP request sent, awaiting response... 302 Found\n",
            "Location: https://raw.githubusercontent.com/frangoler/flags-clasificator/main/banderitas.h5 [following]\n",
            "--2022-08-23 14:09:58--  https://raw.githubusercontent.com/frangoler/flags-clasificator/main/banderitas.h5\n",
            "Resolving raw.githubusercontent.com (raw.githubusercontent.com)... 185.199.108.133, 185.199.109.133, 185.199.110.133, ...\n",
            "Connecting to raw.githubusercontent.com (raw.githubusercontent.com)|185.199.108.133|:443... connected.\n",
            "HTTP request sent, awaiting response... 200 OK\n",
            "Length: 10055856 (9.6M) [application/octet-stream]\n",
            "Saving to: ‘banderitas.h5’\n",
            "\n",
            "\rbanderitas.h5         0%[                    ]       0  --.-KB/s               \rbanderitas.h5       100%[===================>]   9.59M  --.-KB/s    in 0.03s   \n",
            "\n",
            "2022-08-23 14:09:58 (352 MB/s) - ‘banderitas.h5’ saved [10055856/10055856]\n",
            "\n"
          ]
        }
      ]
    },
    {
      "cell_type": "code",
      "source": [
        "path='/content/banderitas.h5'\n",
        "model_reloaded = tf.keras.models.load_model(\n",
        "       (path),\n",
        "       custom_objects={'KerasLayer':hub.KerasLayer}\n",
        ")"
      ],
      "metadata": {
        "id": "ix_ic01xBTpu"
      },
      "execution_count": 27,
      "outputs": []
    },
    {
      "cell_type": "code",
      "execution_count": 28,
      "metadata": {
        "id": "6OK6awOwYL0y"
      },
      "outputs": [],
      "source": [
        "#Creo una funcion para la ejecucion prolija de el .predict\n",
        "def resultados(url):\n",
        "  #Ingreso una url de la web(si o si .jpg o .png, o algun archivo utilizado por keras mayor a 300x300 px)\n",
        "  #Retorno una lista ordenada de mayor a menor con tuplas que contienen un float siendo este el valor de procentaje de probabilidad \n",
        "  #y en el otro valor un str que contiene el nombre correspondiente del pais\n",
        "  respuesta = requests.get(url)\n",
        "  img = Image.open(BytesIO(respuesta.content))\n",
        "  img = np.array(img).astype(float)/255\n",
        "  img = cv2.resize(img, (image_size,image_size))\n",
        "  prediccion = model_reloaded.predict(img.reshape(-1, image_size, image_size, 3))\n",
        "  lFinal=[]\n",
        "  for i in range(len(prediccion[0])):\n",
        "    t=(float(prediccion[0][i]),labels[i])\n",
        "    lFinal.append(t)\n",
        "  lFinal.sort(reverse=True)\n",
        "  return lFinal "
      ]
    },
    {
      "cell_type": "code",
      "execution_count": 29,
      "metadata": {
        "colab": {
          "base_uri": "https://localhost:8080/"
        },
        "id": "2Ml8vxHEF4iM",
        "outputId": "99e36c93-939d-4142-af93-e488c7162c2a"
      },
      "outputs": [
        {
          "output_type": "stream",
          "name": "stdout",
          "text": [
            "[(0.7067584991455078, 'Spain'), (0.24487708508968353, 'Bolivia'), (0.01657230034470558, 'Romania'), (0.011363529600203037, 'Costa rica'), (0.00557827390730381, 'Peru'), (0.004651498980820179, 'Portugal'), (0.002479496179148555, 'Andorra'), (0.0017091530608013272, 'Barbados'), (0.0015568992821499705, 'Mexico'), (0.0012560382019728422, 'Luxembourg'), (0.0007567005814053118, 'Brasil'), (0.0006235881592147052, 'Venezuela'), (0.00038044838584028184, 'Germany'), (0.00036120793083682656, 'El Salvador'), (0.00022532801085617393, 'Malta'), (0.00022421249013859779, 'Belgium'), (0.00013893407594878227, 'Colombia'), (8.571847138227895e-05, 'Croatia'), (7.136799104046077e-05, 'Lithuania'), (6.669373397016898e-05, 'Argentina'), (5.7421748351771384e-05, 'Hungary'), (5.208636503084563e-05, 'Slovakia'), (3.957170702051371e-05, 'Austria'), (2.0605068129952997e-05, 'Ukraine'), (1.6562669770792127e-05, 'Czech Republic'), (1.5651248759240843e-05, 'Ireland'), (1.5567871741950512e-05, 'Paraguay'), (8.08515051176073e-06, 'Sweden'), (6.586491053894861e-06, 'United States'), (4.553383405436762e-06, 'Slovenia'), (4.533140327112051e-06, 'Denmark'), (3.4078557291650213e-06, 'Canada'), (3.2489560908288695e-06, 'Cuba'), (3.0047958716750145e-06, 'Norway'), (2.4170615233742865e-06, 'Poland'), (1.7242459762201179e-06, 'Switzerland'), (1.6278689827231574e-06, 'Latvia'), (1.5712843151050038e-06, 'Russia'), (1.2501341188908555e-06, 'Holland'), (1.2224810461702873e-06, 'Guatemala'), (9.174314641313686e-07, 'Bulgaria'), (7.268340596056078e-07, 'Uruguay'), (4.235112385231332e-07, 'Chile'), (1.0699527308588586e-07, 'Greece'), (7.51764090978213e-08, 'Italy'), (3.9528760709117705e-08, 'France'), (2.4652440089312222e-08, 'United Kingdom'), (8.29173352201451e-09, 'Estonia'), (1.6172729822017118e-09, 'Iceland'), (5.765967564519414e-11, 'Finland')]\n"
          ]
        }
      ],
      "source": [
        "url='https://image.winudf.com/v2/image/Y29tLkNoaWVmV2FsbHBhcGVycy5TcGEzNl9zY3JlZW5fMF9yZmlldzgxdg/screen-0.jpg?fakeurl=1&type=.webp' \n",
        "print(resultados(url))"
      ]
    }
  ],
  "metadata": {
    "accelerator": "GPU",
    "colab": {
      "collapsed_sections": [],
      "name": "Proyecto Clasificador de Banderas con MobileNet.ipynb",
      "provenance": [],
      "mount_file_id": "1RqP36w6euuK9Pg_pHz84xi3g2CkLL9jc",
      "authorship_tag": "ABX9TyOzaxoNo67gO/RKqCCx3YLo",
      "include_colab_link": true
    },
    "gpuClass": "standard",
    "kernelspec": {
      "display_name": "Python 3",
      "name": "python3"
    },
    "language_info": {
      "name": "python"
    }
  },
  "nbformat": 4,
  "nbformat_minor": 0
}